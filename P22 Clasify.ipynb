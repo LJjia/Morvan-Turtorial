{
 "cells": [
  {
   "cell_type": "code",
   "execution_count": 1,
   "metadata": {},
   "outputs": [
    {
     "name": "stderr",
     "output_type": "stream",
     "text": [
      "H:\\Anaconda\\lib\\site-packages\\h5py\\__init__.py:36: FutureWarning: Conversion of the second argument of issubdtype from `float` to `np.floating` is deprecated. In future, it will be treated as `np.float64 == np.dtype(float).type`.\n",
      "  from ._conv import register_converters as _register_converters\n"
     ]
    }
   ],
   "source": [
    "import tensorflow as tf\n",
    "from tensorflow.examples.tutorials.mnist import input_data"
   ]
  },
  {
   "cell_type": "code",
   "execution_count": 2,
   "metadata": {},
   "outputs": [
    {
     "name": "stdout",
     "output_type": "stream",
     "text": [
      "Extracting MNIST_data\\train-images-idx3-ubyte.gz\n",
      "Extracting MNIST_data\\train-labels-idx1-ubyte.gz\n",
      "Extracting MNIST_data\\t10k-images-idx3-ubyte.gz\n",
      "Extracting MNIST_data\\t10k-labels-idx1-ubyte.gz\n"
     ]
    }
   ],
   "source": [
    "mnist = input_data.read_data_sets('MNIST_data', one_hot=True)"
   ]
  },
  {
   "cell_type": "code",
   "execution_count": 17,
   "metadata": {},
   "outputs": [],
   "source": [
    "\n",
    "def add_layer(inputs, in_size, out_size, activation_function=None):\n",
    "    global Weights\n",
    "    Weights = tf.Variable(tf.random_normal([in_size, out_size]))\n",
    "    biases = tf.Variable(tf.zeros([1, out_size]) + 0.1)\n",
    "    #该层乘积之后输出\n",
    "    Wx_plus_b = tf.matmul(inputs, Weights) + biases\n",
    "    if activation_function is None:\n",
    "        outputs = Wx_plus_b\n",
    "    else:\n",
    "        outputs = activation_function(Wx_plus_b)\n",
    "    return outputs\n",
    "\n",
    "def compute_accuracy(v_xs,v_ys):\n",
    "    global prediction\n",
    "    y_pre=sess.run(prediction,feed_dict={xs:v_xs,ys:v_ys})\n",
    "    correct_prediction=tf.equal(tf.argmax(y_pre,1),tf.argmax(v_ys,1))#返回矩阵，相等值为1\n",
    "    accuracy=tf.reduce_mean(tf.cast(correct_prediction,tf.float32))#cast转换格式\n",
    "    result=sess.run(accuracy,feed_dict={xs:v_xs,})\n",
    "    #不加ys也可以 ，虽然tensorflow是递归运算，但是accuracy关联correct_prediction，correct_prediction关联\n",
    "    #y_pre和v_ys 即使y_pre和xs，ys有关，但是y_pre已经计算出来，所以实际上result只关联y_pre和v_ys，这两个都是不需要喂值的，\n",
    "    #已经有实体，存在于tensorflow中的张量节点\n",
    "    return result"
   ]
  },
  {
   "cell_type": "code",
   "execution_count": 20,
   "metadata": {},
   "outputs": [
    {
     "name": "stdout",
     "output_type": "stream",
     "text": [
      "0.0895\n",
      "0.8016\n",
      "0.8314\n",
      "0.8562\n",
      "0.8644\n",
      "0.8721\n",
      "0.8636\n",
      "0.8774\n",
      "0.8845\n",
      "0.8851\n",
      "0.8862\n",
      "0.8876\n",
      "0.8936\n",
      "0.8924\n",
      "0.8937\n",
      "0.8952\n",
      "0.8968\n",
      "0.8983\n",
      "0.8971\n",
      "0.9007\n"
     ]
    }
   ],
   "source": [
    "xs = tf.placeholder(tf.float32, [None, 784]) # 28x28\n",
    "ys = tf.placeholder(tf.float32, [None, 10])\n",
    "prediction = add_layer(xs, 784, 10, activation_function=tf.nn.softmax)\n",
    "\n",
    "#注意这是log 所以结果需要有负号\n",
    "cross_entropy = tf.reduce_mean(-tf.reduce_sum(ys * tf.log(prediction),\n",
    "                                reduction_indices=[1])) # loss\n",
    "\n",
    "train_step = tf.train.GradientDescentOptimizer(0.1).minimize(cross_entropy)\n",
    "sess = tf.Session()\n",
    "sess.run(tf.global_variables_initializer())\n",
    "\n",
    "for i in range(2000):\n",
    "    batch_xs, batch_ys = mnist.train.next_batch(100)\n",
    "    for j in range(10):\n",
    "        sess.run(train_step, feed_dict={xs: batch_xs, ys: batch_ys})\n",
    "    if i % 100 == 0:\n",
    "            print(compute_accuracy(mnist.test.images, mnist.test.labels))\n",
    "            #print(sess.run(Weights))\n"
   ]
  },
  {
   "cell_type": "markdown",
   "metadata": {},
   "source": [
    "# 解释这里出现0.098的原因\n",
    "是因为学习率太大，容易跑发散了！！！！\n",
    "\n",
    "一定要注意，学习率太大就容易跑发散了\n",
    "\n",
    "修改过程：本来莫烦的教程使用的是每次训练，选取100个样本，每个样本只训练一次，这样不容易跑发散，出现0.098的概率。\n",
    "\n",
    "当时如果每次训练，选取100个样本，每个样本训练10次，权重就非常容易出现跑发散。结果出现正确率0.098，权重weight都变成nan，可以打印权重看一下！！\n",
    "\n",
    "而且这样出现nan造成之后的训练无法回归到正常的权重"
   ]
  },
  {
   "cell_type": "code",
   "execution_count": null,
   "metadata": {
    "collapsed": true
   },
   "outputs": [],
   "source": []
  }
 ],
 "metadata": {
  "kernelspec": {
   "display_name": "Python 3",
   "language": "python",
   "name": "python3"
  },
  "language_info": {
   "codemirror_mode": {
    "name": "ipython",
    "version": 3
   },
   "file_extension": ".py",
   "mimetype": "text/x-python",
   "name": "python",
   "nbconvert_exporter": "python",
   "pygments_lexer": "ipython3",
   "version": "3.6.2"
  }
 },
 "nbformat": 4,
 "nbformat_minor": 2
}
