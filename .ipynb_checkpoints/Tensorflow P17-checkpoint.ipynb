{
 "cells": [
  {
   "cell_type": "code",
   "execution_count": 32,
   "metadata": {},
   "outputs": [],
   "source": [
    "import tensorflow as tf\n",
    "import numpy as np\n",
    "import matplotlib.pyplot as plt"
   ]
  },
  {
   "cell_type": "code",
   "execution_count": 39,
   "metadata": {},
   "outputs": [
    {
     "name": "stdout",
     "output_type": "stream",
     "text": [
      "Warning: Cannot change to a different GUI toolkit: qt4. Using qt instead.\n",
      "训练神经网络的结果\n"
     ]
    }
   ],
   "source": [
    "%matplotlib qt4\n",
    "#添加这句话可以让图片呈现动态显示，这与backend有关\n",
    "#试过了只输入 %matplotlib  也可以\n",
    "\n",
    "#创建函数构造一层神经网络\n",
    "#参数含义：输入矩阵，数据矩阵格式，输出格式，激活函数\n",
    "#注意：这里的size不可以是多维的矩阵\n",
    "def add_layer(inputs, in_size, out_size, activation_function=None):\n",
    "    Weights = tf.Variable(tf.random_normal([in_size, out_size]))\n",
    "    biases = tf.Variable(tf.zeros([1, out_size]) + 0.1)\n",
    "    #该层乘积之后输出\n",
    "    Wx_plus_b = tf.matmul(inputs, Weights) + biases\n",
    "    if activation_function is None:\n",
    "        outputs = Wx_plus_b\n",
    "    else:\n",
    "        outputs = activation_function(Wx_plus_b)\n",
    "    return outputs\n",
    "\n",
    "#新建一个行矩阵（-1 - 1）之间取值，行数为300  之后为这个函数新加一个维度，变成300行1列的矩阵\n",
    "x_data = np.linspace(-1,1,300, dtype=np.float32)[:, np.newaxis]\n",
    "noise = np.random.normal(0, 0.05, x_data.shape).astype(np.float32)\n",
    "#对实际数据添加一些噪声\n",
    "y_data = np.square(x_data) - 0.5 + noise\n",
    "#输入输出占位符\n",
    "xs = tf.placeholder(tf.float32, [None, 1])\n",
    "ys = tf.placeholder(tf.float32, [None, 1])\n",
    "#隐藏层\n",
    "l1=add_layer(xs,1,10,activation_function=tf.nn.relu)\n",
    "#输出层\n",
    "prediction=add_layer(l1,10,1,activation_function=None)\n",
    "#求loss的  误差平方 求和 取平均\n",
    "'''解释：\n",
    "第一条语句的含义是 先对误差求平方 在求和  之后对这一个数取平均，因此相当于没取，\n",
    "这样做之后，虽然也是一个损失，只不过是没有取平均，但是实际显示这样做当数据增多的时候，会出现nan，\n",
    "并且即使数据很少，也会出现局部最优，从而无法继续完成训练的结果\n",
    "\n",
    "第二条语句则是先求平方 sum中多一个参数reduction_indices 和第三条语句中的axis类似，=1相当于消除列这个维度（算完之后是300行数据）\n",
    "原数据本来就是300行，因此这个sum相当于啥事也没干，只用到了后面的求平均，这次求得平均值会除以数据个数，也就是300.\n",
    "\n",
    "第四条语句的含义是，首先求平方 然后直接求平均。求出来的数据是：300行数据，每个求平方，然后对这300个数据取平均值，求出最后 一个数值\n",
    "'''\n",
    "#loss= tf.reduce_mean(tf.reduce_sum(tf.square(ys - prediction)))\n",
    "#loss = tf.reduce_mean(tf.reduce_sum(tf.square(ys - prediction),reduction_indices=[1]))\n",
    "#loss = tf.reduce_mean(tf.reduce_sum(tf.square(ys - prediction),axis=1))\n",
    "loss=tf.reduce_mean(tf.square(ys - prediction))\n",
    "#创建优化器\n",
    "train_step=tf.train.GradientDescentOptimizer(0.1).minimize(loss)\n",
    "\n",
    "\n",
    "init=tf.global_variables_initializer()\n",
    "\n",
    "fig = plt.figure()\n",
    "ax = fig.add_subplot(1,1,1)\n",
    "ax.scatter(x_data, y_data)\n",
    "plt.ion()#本次运行请注释，全局运行不要注释\n",
    "#plt.show()#不加上面这句 程序运行到这里就停止了\n",
    "\n",
    "with tf.Session() as sess:\n",
    "    sess.run(init)\n",
    "    '''\n",
    "    #比较这几种求平均的方法\n",
    "    print(sess.run(tf.reduce_sum(tf.square(ys - prediction)),feed_dict={xs:x_data,ys:y_data}))\n",
    "    print(sess.run(tf.reduce_mean(tf.reduce_sum(tf.square(ys - prediction))),feed_dict={xs:x_data,ys:y_data}))\n",
    "    print(sess.run(tf.reduce_mean(tf.reduce_sum(tf.square(ys - prediction),reduction_indices=[1])),feed_dict={xs:x_data,ys:y_data}))\n",
    "    print(sess.run(tf.reduce_mean(tf.reduce_sum(tf.square(ys - prediction),axis=1)),feed_dict={xs:x_data,ys:y_data}))\n",
    "    print(sess.run(tf.reduce_mean(tf.square(ys - prediction)),feed_dict={xs:x_data,ys:y_data}))\n",
    "    \n",
    "    print('************************')\n",
    "    '''\n",
    "    print('训练神经网络的结果')\n",
    "    #训练神经网络\n",
    "    for i in range(5000):\n",
    "        #训练步骤\n",
    "        sess.run(train_step,feed_dict={xs:x_data,ys:y_data})\n",
    "        #查看误差\n",
    "        if i%100==0:\n",
    "            pass\n",
    "            try:\n",
    "                ax.lines.remove(lines[0])\n",
    "            except Exception:\n",
    "                pass\n",
    "            prediction_value = sess.run(prediction, feed_dict={xs: x_data})\n",
    "            # plot the prediction\n",
    "            lines = ax.plot(x_data, prediction_value, 'r-', lw=5)\n",
    "            plt.pause(0.5)\n",
    "    plt.ioff()#本次运行请注释，全局运行不要注释\n",
    "    plt.show()#不加上面这句 程序运行到这里就停止了"
   ]
  },
  {
   "cell_type": "code",
   "execution_count": 38,
   "metadata": {},
   "outputs": [
    {
     "name": "stdout",
     "output_type": "stream",
     "text": [
      "Using matplotlib backend: Qt4Agg\n",
      "Populating the interactive namespace from numpy and matplotlib\n"
     ]
    }
   ],
   "source": [
    "#查看动态显示后端的渲染方式，这个会影响到你在最前端使用的是%matplotlib qt4 还是qt5\n",
    "%pylab"
   ]
  },
  {
   "cell_type": "code",
   "execution_count": null,
   "metadata": {
    "collapsed": true
   },
   "outputs": [],
   "source": []
  }
 ],
 "metadata": {
  "kernelspec": {
   "display_name": "Python 3",
   "language": "python",
   "name": "python3"
  },
  "language_info": {
   "codemirror_mode": {
    "name": "ipython",
    "version": 3
   },
   "file_extension": ".py",
   "mimetype": "text/x-python",
   "name": "python",
   "nbconvert_exporter": "python",
   "pygments_lexer": "ipython3",
   "version": "3.6.2"
  }
 },
 "nbformat": 4,
 "nbformat_minor": 2
}
